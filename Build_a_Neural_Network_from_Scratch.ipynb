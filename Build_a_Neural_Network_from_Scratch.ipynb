{
  "nbformat": 4,
  "nbformat_minor": 0,
  "metadata": {
    "colab": {
      "provenance": [],
      "include_colab_link": true
    },
    "kernelspec": {
      "name": "python3",
      "display_name": "Python 3"
    },
    "language_info": {
      "name": "python"
    }
  },
  "cells": [
    {
      "cell_type": "markdown",
      "metadata": {
        "id": "view-in-github",
        "colab_type": "text"
      },
      "source": [
        "<a href=\"https://colab.research.google.com/github/Vtzachis/Projects/blob/main/Build_a_Neural_Network_from_Scratch.ipynb\" target=\"_parent\"><img src=\"https://colab.research.google.com/assets/colab-badge.svg\" alt=\"Open In Colab\"/></a>"
      ]
    },
    {
      "cell_type": "code",
      "execution_count": 435,
      "metadata": {
        "id": "Zjd40LMP1rcj"
      },
      "outputs": [],
      "source": [
        "# Step 1: Import necessary libraries\n",
        "import numpy as np\n",
        "import matplotlib.pyplot as plt\n",
        "from sklearn.datasets import load_digits\n",
        "from sklearn.model_selection import train_test_split\n",
        "from sklearn.preprocessing import OneHotEncoder, StandardScaler"
      ]
    },
    {
      "cell_type": "code",
      "source": [
        "# Step 2: Load and explore the dataset\n",
        "digits = load_digits()\n",
        "X, y = digits.data, digits.target\n",
        "\n",
        "# Visualize a few images\n",
        "plt.figure(figsize=(8, 4))\n",
        "for i in range(6):\n",
        "    plt.subplot(2, 3, i + 1)\n",
        "    plt.imshow(digits.images[i], cmap='gray')\n",
        "    plt.title(f\"Label: {digits.target[i]}\")\n",
        "    plt.axis('off')\n",
        "plt.tight_layout()\n",
        "plt.show()"
      ],
      "metadata": {
        "colab": {
          "base_uri": "https://localhost:8080/",
          "height": 407
        },
        "id": "3gjsaczF17bE",
        "outputId": "7e3d9b83-88fb-4f93-b0e2-b90bd26c7b37"
      },
      "execution_count": 436,
      "outputs": [
        {
          "output_type": "display_data",
          "data": {
            "text/plain": [
              "<Figure size 800x400 with 6 Axes>"
            ],
            "image/png": "[encoded data removed]"
          },
          "metadata": {}
        }
      ]
    },
    {
      "cell_type": "code",
      "source": [
        "# Step 3: Preprocess the data\n",
        "# Normalize features\n",
        "scaler = StandardScaler()\n",
        "X_scaled = scaler.fit_transform(X)\n",
        "\n",
        "# One-hot encode the labels\n",
        "encoder = OneHotEncoder(sparse_output=False)\n",
        "y_onehot = encoder.fit_transform(y.reshape(-1, 1))\n",
        "\n",
        "# Train/test split\n",
        "X_train, X_test, y_train, y_test = train_test_split(X_scaled, y_onehot, test_size=0.3, random_state=42)"
      ],
      "metadata": {
        "id": "XQmYGIn319AC"
      },
      "execution_count": 437,
      "outputs": []
    },
    {
      "cell_type": "code",
      "source": [
        "# Step 4: Define activation functions and their derivatives\n",
        "def relu(x):\n",
        "    return np.maximum(0, x)\n",
        "\n",
        "def relu_derivative(x):\n",
        "    return (x > 0).astype(float)\n",
        "\n",
        "def tanh(x):\n",
        "    return np.tanh(x)\n",
        "\n",
        "def tanh_derivative(x):\n",
        "    return 1 - np.tanh(x) ** 2\n",
        "\n",
        "def softmax(x):\n",
        "    exp_x = np.exp(x - np.max(x, axis=1, keepdims=True))  # for numerical stability\n",
        "    return exp_x / np.sum(exp_x, axis=1, keepdims=True)"
      ],
      "metadata": {
        "id": "Sdgqbcfn1_A1"
      },
      "execution_count": 438,
      "outputs": []
    },
    {
      "cell_type": "code",
      "source": [
        "# Step 5: Initialize network parameters\n",
        "np.random.seed(42)\n",
        "\n",
        "input_size = X_train.shape[1]   # 64 features\n",
        "hidden_size1 = 64\n",
        "hidden_size2 = 32\n",
        "output_size = y_train.shape[1] # 10 classes (digits 0-9)\n",
        "\n",
        "# Xavier initialization\n",
        "W1 = np.random.randn(input_size, hidden_size1) * np.sqrt(1 / input_size)\n",
        "b1 = np.zeros((1, hidden_size1))\n",
        "\n",
        "W2 = np.random.randn(hidden_size1, hidden_size2) * np.sqrt(1 / hidden_size1)\n",
        "b2 = np.zeros((1, hidden_size2))\n",
        "\n",
        "W3 = np.random.randn(hidden_size2, output_size) * np.sqrt(1 / hidden_size2)\n",
        "b3 = np.zeros((1, output_size))"
      ],
      "metadata": {
        "id": "Y8A7TLg12Api"
      },
      "execution_count": 439,
      "outputs": []
    },
    {
      "cell_type": "code",
      "source": [
        "# Step 6: Define loss function (cross entropy)\n",
        "def cross_entropy_loss(y_true, y_pred):\n",
        "    eps = 1e-15\n",
        "    y_pred = np.clip(y_pred, eps, 1 - eps)\n",
        "    return -np.mean(np.sum(y_true * np.log(y_pred), axis=1))"
      ],
      "metadata": {
        "id": "oUTy_FZs2CCX"
      },
      "execution_count": 440,
      "outputs": []
    },
    {
      "cell_type": "code",
      "source": [
        "# Adam optimizer beta stands for m\n",
        "m = 0.9\n",
        "v = 0.999\n",
        "epsilon = 1e-8\n",
        "t = 0\n",
        "\n",
        "# Initialize moment estimates\n",
        "m_W1, v_W1 = np.zeros_like(W1), np.zeros_like(W1)\n",
        "m_b1, v_b1 = np.zeros_like(b1), np.zeros_like(b1)\n",
        "\n",
        "m_W2, v_W2 = np.zeros_like(W2), np.zeros_like(W2)\n",
        "m_b2, v_b2 = np.zeros_like(b2), np.zeros_like(b2)\n",
        "\n",
        "m_W3, v_W3 = np.zeros_like(W3), np.zeros_like(W3)\n",
        "m_b3, v_b3 = np.zeros_like(b3), np.zeros_like(b3)\n"
      ],
      "metadata": {
        "id": "6EClvOGsGEte"
      },
      "execution_count": 441,
      "outputs": []
    },
    {
      "cell_type": "code",
      "source": [
        "# Step 7: Training the network\n",
        "accuracy_history = []\n",
        "loss_history = []\n",
        "epochs = 200\n",
        "learning_rate = 0.0001\n",
        "batch_size = 64\n",
        "for epoch in range(epochs):\n",
        "  for batch in range(0, len(X_train), batch_size):\n",
        "    X_batch = X_train[i:i+batch_size]\n",
        "    y_batch = y_train[i:i+batch_size]\n",
        "    t += 1\n",
        "    # Forward pass\n",
        "    z1 = X_train @ W1 + b1\n",
        "    a1 = relu(z1)\n",
        "\n",
        "    z2 = a1 @ W2 + b2\n",
        "    a2 = tanh(z2)  # Different activation function in hidden layer 2\n",
        "\n",
        "    z3 = a2 @ W3 + b3\n",
        "    a3 = softmax(z3)  # Output layer uses softmax\n",
        "\n",
        "    # Compute loss\n",
        "    #L2 regu\n",
        "    loss = cross_entropy_loss(y_train, a3)\n",
        "    lambda_reg = 0.0001  # Regularization strength\n",
        "    l2_term = lambda_reg * (np.sum(W1 ** 2) + np.sum(W2 ** 2) + np.sum(W3 ** 2))\n",
        "    total_loss = loss + l2_term\n",
        "   # Backpropagation\n",
        "    delta3 = a3 - y_train\n",
        "    dW3 = a2.T @ delta3\n",
        "    db3 = np.sum(delta3, axis=0, keepdims=True)\n",
        "\n",
        "    delta2 = (delta3 @ W3.T) * tanh_derivative(z2)\n",
        "    dW2 = a1.T @ delta2\n",
        "    db2 = np.sum(delta2, axis=0, keepdims=True)\n",
        "\n",
        "    delta1 = (delta2 @ W2.T) * relu_derivative(z1)\n",
        "    dW1 = X_train.T @ delta1\n",
        "    db1 = np.sum(delta1, axis=0, keepdims=True)\n",
        "\n",
        "    # Update weights and biases\n",
        "    # Added Adam optimizer\n",
        "    gW1 = dW1 + lambda_reg * W1  # add L2 reg\n",
        "    m_W1 = m * m_W1 + (1 - m) * gW1\n",
        "    v_W1 = v * v_W1 + (1 - v) * (gW1 ** 2)\n",
        "    m_W1_corr = m_W1 / (1 - m ** t)\n",
        "    v_W1_corr = v_W1 / (1 - v ** t)\n",
        "    W1 -= learning_rate * m_W1_corr / (np.sqrt(v_W1_corr) + epsilon)\n",
        "\n",
        "    m_b1 = m * m_b1 + (1 - m) * db1\n",
        "    v_b1 = v * v_b1 + (1 - v) * (db1 ** 2)\n",
        "    m_b1_corr = m_b1 / (1 - m ** t)\n",
        "    v_b1_corr = v_b1 / (1 - v ** t)\n",
        "    b1 -= learning_rate * m_b1_corr / (np.sqrt(v_b1_corr) + epsilon)\n",
        "\n",
        "    gW2 = dW2 + lambda_reg * W2\n",
        "    m_W2 = m * m_W2 + (1 - m) * gW2\n",
        "    v_W2 = v * v_W2 + (1 - v) * (gW2 ** 2)\n",
        "    m_W2_corr = m_W2 / (1 - m ** t)\n",
        "    v_W2_corr = v_W2 / (1 - v ** t)\n",
        "    W2 -= learning_rate * m_W2_corr / (np.sqrt(v_W2_corr) + epsilon)\n",
        "\n",
        "    m_b2 = m * m_b2 + (1 - m) * db2\n",
        "    v_b2 = v * v_b2 + (1 - v) * (db2 ** 2)\n",
        "    m_b2_corr = m_b2 / (1 - m ** t)\n",
        "    v_b2_corr = v_b2 / (1 - v ** t)\n",
        "    b2 -= learning_rate * m_b2_corr / (np.sqrt(v_b2_corr) + epsilon)\n",
        "\n",
        "    gW3 = dW3 + lambda_reg * W3\n",
        "    m_W3 = m * m_W3 + (1 - m) * gW3\n",
        "    v_W3 = v * v_W3 + (1 - v) * (gW3 ** 2)\n",
        "    m_W3_corr = m_W3 / (1 - m ** t)\n",
        "    v_W3_corr = v_W3 / (1 - v ** t)\n",
        "    W3 -= learning_rate * m_W3_corr / (np.sqrt(v_W3_corr) + epsilon)\n",
        "\n",
        "    m_b3 = m * m_b3 + (1 - m) * db3\n",
        "    v_b3 = v * v_b3 + (1 - v) * (db3 ** 2)\n",
        "    m_b3_corr = m_b3 / (1 - m ** t)\n",
        "    v_b3_corr = v_b3 / (1 - v ** t)\n",
        "    b3 -= learning_rate * m_b3_corr / (np.sqrt(v_b3_corr) + epsilon)\n",
        "\n",
        "\n",
        "\n",
        "    # Print loss every 10 epochs\n",
        "  if epoch % 10 == 0:\n",
        "    print(f\"Epoch {epoch} - Loss: {total_loss:.4f}\")\n",
        "  # Step 8: Evaluate on test set\n",
        "  # Forward pass on test data\n",
        "  # Indenting the accuracy test inside the loop for epochs so we can receive each accuracy respectivly\n",
        "\n",
        "  z1_test = X_test @ W1 + b1\n",
        "  a1_test = relu(z1_test)\n",
        "\n",
        "  z2_test = a1_test @ W2 + b2\n",
        "  a2_test = tanh(z2_test)\n",
        "\n",
        "  z3_test = a2_test @ W3 + b3\n",
        "  a3_test = softmax(z3_test)\n",
        "\n",
        "  # Calculate accuracy\n",
        "\n",
        "  predictions = np.argmax(a3_test, axis=1)\n",
        "  labels = np.argmax(y_test, axis=1)\n",
        "  accuracy = np.mean(predictions == labels)\n",
        "  accuracy_history.append(accuracy)\n",
        "  loss_history.append(total_loss)\n",
        "\n",
        "\n",
        "\n",
        "  if epoch % 10 == 0:\n",
        "      print(f\"Epoch {epoch} — Accuracy: {accuracy:.4f}\")\n",
        "\n",
        "\n"
      ],
      "metadata": {
        "colab": {
          "base_uri": "https://localhost:8080/"
        },
        "id": "Wj8wnA4K2DoU",
        "outputId": "81344aac-fa71-4c14-ce3f-94214aafa63e"
      },
      "execution_count": 442,
      "outputs": [
        {
          "output_type": "stream",
          "name": "stdout",
          "text": [
            "Epoch 0 - Loss: 2.2484\n",
            "Epoch 0 — Accuracy: 0.1852\n",
            "Epoch 10 - Loss: 1.3916\n",
            "Epoch 10 — Accuracy: 0.7593\n",
            "Epoch 20 - Loss: 0.8190\n",
            "Epoch 20 — Accuracy: 0.8722\n",
            "Epoch 30 - Loss: 0.5202\n",
            "Epoch 30 — Accuracy: 0.9037\n",
            "Epoch 40 - Loss: 0.3541\n",
            "Epoch 40 — Accuracy: 0.9296\n",
            "Epoch 50 - Loss: 0.2543\n",
            "Epoch 50 — Accuracy: 0.9407\n",
            "Epoch 60 - Loss: 0.1895\n",
            "Epoch 60 — Accuracy: 0.9574\n",
            "Epoch 70 - Loss: 0.1450\n",
            "Epoch 70 — Accuracy: 0.9593\n",
            "Epoch 80 - Loss: 0.1138\n",
            "Epoch 80 — Accuracy: 0.9648\n",
            "Epoch 90 - Loss: 0.0917\n",
            "Epoch 90 — Accuracy: 0.9685\n",
            "Epoch 100 - Loss: 0.0756\n",
            "Epoch 100 — Accuracy: 0.9704\n",
            "Epoch 110 - Loss: 0.0637\n",
            "Epoch 110 — Accuracy: 0.9704\n",
            "Epoch 120 - Loss: 0.0549\n",
            "Epoch 120 — Accuracy: 0.9722\n",
            "Epoch 130 - Loss: 0.0482\n",
            "Epoch 130 — Accuracy: 0.9741\n",
            "Epoch 140 - Loss: 0.0430\n",
            "Epoch 140 — Accuracy: 0.9759\n",
            "Epoch 150 - Loss: 0.0390\n",
            "Epoch 150 — Accuracy: 0.9759\n",
            "Epoch 160 - Loss: 0.0359\n",
            "Epoch 160 — Accuracy: 0.9759\n",
            "Epoch 170 - Loss: 0.0334\n",
            "Epoch 170 — Accuracy: 0.9759\n",
            "Epoch 180 - Loss: 0.0315\n",
            "Epoch 180 — Accuracy: 0.9759\n",
            "Epoch 190 - Loss: 0.0299\n",
            "Epoch 190 — Accuracy: 0.9759\n"
          ]
        }
      ]
    },
    {
      "cell_type": "code",
      "source": [
        "# Step 8: Evaluate on test set\n",
        "# Forward pass on test data\n",
        "\n",
        "z1_test = X_test @ W1 + b1\n",
        "a1_test = relu(z1_test)\n",
        "\n",
        "z2_test = a1_test @ W2 + b2\n",
        "a2_test = tanh(z2_test)\n",
        "\n",
        "z3_test = a2_test @ W3 + b3\n",
        "a3_test = softmax(z3_test)\n",
        "\n",
        "# Calculate accuracy\n",
        "predictions = np.argmax(a3_test, axis=1)\n",
        "labels = np.argmax(y_test, axis=1)\n",
        "accuracy = np.mean(predictions == labels)\n",
        "\n",
        "print(f\"Test accuracy: {accuracy:.4f}\")\n",
        "\n",
        "\n"
      ],
      "metadata": {
        "colab": {
          "base_uri": "https://localhost:8080/"
        },
        "id": "W3qaxWXF2FTe",
        "outputId": "85dad877-d5c4-427b-d09e-bf1131488a87"
      },
      "execution_count": 443,
      "outputs": [
        {
          "output_type": "stream",
          "name": "stdout",
          "text": [
            "Test accuracy: 0.9759\n"
          ]
        }
      ]
    },
    {
      "cell_type": "code",
      "source": [
        "plt.figure(figsize=(12, 5))\n",
        "\n",
        "# Accuracy\n",
        "plt.subplot(1, 2, 1)\n",
        "plt.plot(accuracy_history, label=\"Accuracy\", color='blue')\n",
        "plt.title(\"Accuracy Over Epochs\")\n",
        "plt.xlabel(\"Epoch\")\n",
        "plt.ylabel(\"Accuracy\")\n",
        "plt.grid(True)\n",
        "plt.legend()\n",
        "\n",
        "# Loss\n",
        "plt.subplot(1, 2, 2)\n",
        "plt.plot(loss_history, label=\"Loss\", color='red')\n",
        "plt.title(\"Loss Over Epochs\")\n",
        "plt.xlabel(\"Epoch\")\n",
        "plt.ylabel(\"Loss\")\n",
        "plt.grid(True)\n",
        "plt.legend()\n",
        "\n",
        "plt.tight_layout()\n",
        "plt.show()\n"
      ],
      "metadata": {
        "id": "3LEclSN_RBrd",
        "outputId": "ce4ea57b-80b9-4194-e492-4b355d712e43",
        "colab": {
          "base_uri": "https://localhost:8080/",
          "height": 507
        }
      },
      "execution_count": 444,
      "outputs": [
        {
          "output_type": "display_data",
          "data": {
            "text/plain": [
              "<Figure size 1200x500 with 2 Axes>"
            ],
            "image/png": "[encoded data removed]"
          },
          "metadata": {}
        }
      ]
    }
  ]
}